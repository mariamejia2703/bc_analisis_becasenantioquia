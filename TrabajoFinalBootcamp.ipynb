{
  "nbformat": 4,
  "nbformat_minor": 0,
  "metadata": {
    "colab": {
      "provenance": [],
      "authorship_tag": "ABX9TyMXh1EelM2kJmajonzh+ZDr",
      "include_colab_link": true
    },
    "kernelspec": {
      "name": "python3",
      "display_name": "Python 3"
    },
    "language_info": {
      "name": "python"
    }
  },
  "cells": [
    {
      "cell_type": "markdown",
      "metadata": {
        "id": "view-in-github",
        "colab_type": "text"
      },
      "source": [
        "<a href=\"https://colab.research.google.com/github/mariamejia2703/bc_analisis_becasenantioquia/blob/master/TrabajoFinalBootcamp.ipynb\" target=\"_parent\"><img src=\"https://colab.research.google.com/assets/colab-badge.svg\" alt=\"Open In Colab\"/></a>"
      ]
    },
    {
      "cell_type": "markdown",
      "source": [
        "# Presentación"
      ],
      "metadata": {
        "id": "qq7Oxrfdu4Ur"
      }
    },
    {
      "cell_type": "markdown",
      "source": [
        "Este análisis de datos tiene como propósito examinar de manera rigurosa y detallada la distribución y alcance de las becas y créditos educativos otorgados en el departamento de Antioquia, con énfasis en su cobertura por municipio. El objetivo principal es responder a interrogantes clave relacionados con la equidad en el acceso a la educación superior y las oportunidades que tienen los jóvenes antioqueños para continuar su formación académica a través del apoyo financiero estatal.\n",
        "\n",
        "Para ello, se utilizará como fuente principal el conjunto de datos abierto proporcionado por el Ministerio de Educación Nacional de Colombia, disponible en el portal oficial de datos del gobierno (https://www.datos.gov.co/Educaci-n/Beneficiaros-de-becas-y-creditos-de-programas-de-a/ya7f-466y).\n",
        "\n",
        "Este análisis permitirá identificar patrones, desigualdades territoriales y posibles oportunidades de mejora en la política pública, con el fin de promover un acceso más equitativo a la educación superior en todo el territorio antioqueño. También aportará insumos valiosos para la toma de decisiones por parte de entidades gubernamentales, instituciones educativas, y organizaciones que trabajan por el fortalecimiento del talento joven en la región."
      ],
      "metadata": {
        "id": "UfxPMtklwJWi"
      }
    },
    {
      "cell_type": "markdown",
      "source": [
        "# Justificación"
      ],
      "metadata": {
        "id": "SNsfTYCnu4Oa"
      }
    },
    {
      "cell_type": "markdown",
      "source": [
        "# Ingestión de datos"
      ],
      "metadata": {
        "id": "6OyNznVNu4HB"
      }
    },
    {
      "cell_type": "markdown",
      "source": [
        "# Preparación y limpieza"
      ],
      "metadata": {
        "id": "w9WUPG_qu3_p"
      }
    },
    {
      "cell_type": "markdown",
      "source": [
        "# Analítica descriptiva"
      ],
      "metadata": {
        "id": "u_1PcAHCu3vu"
      }
    },
    {
      "cell_type": "markdown",
      "source": [
        "# Análisis de negocio"
      ],
      "metadata": {
        "id": "5veCWSX1vHi_"
      }
    },
    {
      "cell_type": "markdown",
      "source": [
        "1.   ¿Qué municipios de Antioquia presentan mayor número de beneficiarios por año?\n",
        "2.  ¿Existen brechas significativas entre municipios urbanos y rurales en la asignación de apoyos educativos? (categorizar municipios)\n",
        "\n",
        "3. ¿Qué tipo de apoyos (becas o créditos) son más frecuentes y en qué zonas? (beneficio otorgado, municipio de residencia)\n",
        "\n",
        "4. ¿Cómo ha sido la evolución del acceso a estos beneficios en los últimos años?(conteo de convocatoria por año)\n",
        "\n",
        "5. ¿Cuáles son las instituciones más frecuentes a las que acceden los beneficiarios? (universidad, conteo de año nac)\n",
        "\n",
        "6. ¿Qué nivel educativo es más apoyado según el municipio?\n",
        "(tipo de formacion, municipio residencia - oferta)\n",
        "\n",
        "7. ¿Qué porcentaje de beneficiarios corresponde a becas, créditos condonables o mixtos? (beneficio otorgado)\n",
        "\n",
        "8. ¿Qué municipios presentan mayor y menor cantidad de beneficiarios?\n",
        "(conteo de municipio de residencia)\n",
        "\n",
        "9. ¿Qué subregiones de Antioquia están más rezagadas en términos de acceso a apoyos educativos? (subregion con menos apoyo, subregion con beneficio otorgado)\n",
        "\n",
        "11. ¿Cuáles son los programas académicos más demandados por genero, edad y subregion? (genero, programa cursado, subregion)\n",
        "\n",
        "12. ¿Los estudiantes beneficiarios prefieren formación técnica, tecnológica o profesional? (conteo de tipo de formación)\n",
        "\n",
        "13. ¿Cuál es la distribución por género, estrato,grupo-etnico y victima del conflicto armado entre los beneficiarios alrededor de los años? (conteo de genero,año, estrato, conflicto armado)\n",
        "\n",
        "14. ¿Qué grupo etario (rango de edad) predomina entre los beneficiarios? (crear columna edad)\n",
        "\n",
        "15. ¿Dónde sería más efectivo aumentar la cobertura de becas? (municipio de residencia con menos becas)\n",
        "\n",
        "16. ¿Qué municipios podrían beneficiarse de campañas de difusión sobre estos programas?\n",
        "\n",
        "17. ¿Cómo se puede reducir la inequidad en el acceso a apoyos educativos?\n",
        "\n",
        "18. ¿Qué tipos de programas deberían fortalecerse según la demanda regional?\n",
        "\n",
        "19. ¿Cuál es la tasa de deserción o permanencia de los beneficiarios, según el tipo de ayuda? (beneficio otorgado, graduado).\n",
        "\n",
        "20. ¿Existe diferencia en el tipo de ayuda recibida según el género o la edad?"
      ],
      "metadata": {
        "id": "ApLyjPowy4_M"
      }
    },
    {
      "cell_type": "code",
      "source": [],
      "metadata": {
        "id": "aZAZF2X1ykuW"
      },
      "execution_count": null,
      "outputs": []
    },
    {
      "cell_type": "code",
      "source": [],
      "metadata": {
        "id": "SSz4Irli7JLv"
      },
      "execution_count": null,
      "outputs": []
    }
  ]
}