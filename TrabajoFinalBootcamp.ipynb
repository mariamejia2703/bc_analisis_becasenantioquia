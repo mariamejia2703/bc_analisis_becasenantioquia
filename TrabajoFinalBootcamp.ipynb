{
  "nbformat": 4,
  "nbformat_minor": 0,
  "metadata": {
    "colab": {
      "provenance": [],
      "authorship_tag": "ABX9TyM+5WJ2zt+WH+gB5+Dx2GWN",
      "include_colab_link": true
    },
    "kernelspec": {
      "name": "python3",
      "display_name": "Python 3"
    },
    "language_info": {
      "name": "python"
    }
  },
  "cells": [
    {
      "cell_type": "markdown",
      "metadata": {
        "id": "view-in-github",
        "colab_type": "text"
      },
      "source": [
        "<a href=\"https://colab.research.google.com/github/mariamejia2703/bc_analisis_becasenantioquia/blob/master/TrabajoFinalBootcamp.ipynb\" target=\"_parent\"><img src=\"https://colab.research.google.com/assets/colab-badge.svg\" alt=\"Open In Colab\"/></a>"
      ]
    },
    {
      "cell_type": "markdown",
      "source": [
        "# Presentación"
      ],
      "metadata": {
        "id": "qq7Oxrfdu4Ur"
      }
    },
    {
      "cell_type": "markdown",
      "source": [
        "# Justificación"
      ],
      "metadata": {
        "id": "SNsfTYCnu4Oa"
      }
    },
    {
      "cell_type": "markdown",
      "source": [
        "# Ingestión de datos"
      ],
      "metadata": {
        "id": "6OyNznVNu4HB"
      }
    },
    {
      "cell_type": "markdown",
      "source": [
        "# Preparación y limpieza"
      ],
      "metadata": {
        "id": "w9WUPG_qu3_p"
      }
    },
    {
      "cell_type": "markdown",
      "source": [
        "# Analítica descriptiva"
      ],
      "metadata": {
        "id": "u_1PcAHCu3vu"
      }
    },
    {
      "cell_type": "markdown",
      "source": [
        "# Análisis de negocio"
      ],
      "metadata": {
        "id": "5veCWSX1vHi_"
      }
    }
  ]
}